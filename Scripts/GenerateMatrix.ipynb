{
 "cells": [
  {
   "cell_type": "code",
   "execution_count": 1,
   "metadata": {
    "ExecuteTime": {
     "end_time": "2017-11-15T14:47:12.154487Z",
     "start_time": "2017-11-15T15:47:07.513665+01:00"
    }
   },
   "outputs": [
    {
     "name": "stderr",
     "output_type": "stream",
     "text": [
      "/home/netquest/anaconda3/envs/nimfa_env/lib/python3.6/site-packages/nimfa/examples/cbcl_images.py:98: UserWarning: PIL must be installed to run CBCL images example.\n",
      "  warn(\"PIL must be installed to run CBCL images example.\")\n",
      "/home/netquest/anaconda3/envs/nimfa_env/lib/python3.6/site-packages/nimfa/examples/orl_images.py:110: UserWarning: PIL must be installed to run ORL images example.\n",
      "  warn(\"PIL must be installed to run ORL images example.\")\n"
     ]
    }
   ],
   "source": [
    "%matplotlib inline\n",
    "import numpy as np\n",
    "import matplotlib.pyplot as plt\n",
    "import nimfa\n",
    "from scipy.spatial import distance\n",
    "import scipy\n",
    "from Signatures import *\n",
    "from simFunctions import *\n",
    "from distances import *"
   ]
  },
  {
   "cell_type": "code",
   "execution_count": 2,
   "metadata": {
    "ExecuteTime": {
     "end_time": "2017-11-15T14:47:15.554824Z",
     "start_time": "2017-11-15T15:47:15.037519+01:00"
    },
    "collapsed": true
   },
   "outputs": [],
   "source": [
    "n_samples=100\n",
    "n_processes=3\n",
    "spar=0.2\n",
    "dim=10\n",
    "sep=0.8\n",
    "l=20\n",
    "L=30\n",
    "E=generate_exposures(l,L,n_processes,n_samples)\n",
    "P=generate_process(spar,n_processes,dim,sep)\n",
    "X=poisonMatrix(E*P)\n",
    "Noise=np.random.randint(3, size=(100, 10))"
   ]
  },
  {
   "cell_type": "code",
   "execution_count": 3,
   "metadata": {
    "ExecuteTime": {
     "end_time": "2017-11-15T14:47:16.880066Z",
     "start_time": "2017-11-15T15:47:16.870004+01:00"
    },
    "collapsed": true
   },
   "outputs": [],
   "source": [
    "p=produce_process(0.2,10)"
   ]
  },
  {
   "cell_type": "code",
   "execution_count": 4,
   "metadata": {
    "ExecuteTime": {
     "end_time": "2017-11-15T14:47:18.277122Z",
     "start_time": "2017-11-15T15:47:17.890134+01:00"
    }
   },
   "outputs": [
    {
     "data": {
      "text/plain": [
       "matrix([[ 0.05548061,  0.04013824,  0.        ,  0.07802216,  0.01128714,\n",
       "          0.        ,  0.08159243,  0.03545553,  0.00416713,  0.06090196,\n",
       "          0.        ,  0.        ,  0.02065303,  0.08593119,  0.02744141,\n",
       "          0.        ,  0.03585543,  0.04536992,  0.05814665,  0.        ,\n",
       "          0.06120606,  0.        ,  0.08530543,  0.        ,  0.06624699,\n",
       "          0.05113751,  0.03606083,  0.03663284,  0.02296752,  0.        ],\n",
       "        [ 0.037491  ,  0.        ,  0.0083407 ,  0.        ,  0.        ,\n",
       "          0.        ,  0.        ,  0.00463227,  0.        ,  0.0443421 ,\n",
       "          0.15320993,  0.04868351,  0.        ,  0.06385318,  0.        ,\n",
       "          0.1269511 ,  0.        ,  0.08977415,  0.        ,  0.        ,\n",
       "          0.        ,  0.00974818,  0.        ,  0.13180712,  0.        ,\n",
       "          0.        ,  0.1367426 ,  0.        ,  0.14442413,  0.        ],\n",
       "        [ 0.        ,  0.        ,  0.04800748,  0.0052294 ,  0.14898759,\n",
       "          0.        ,  0.        ,  0.        ,  0.14046616,  0.00878681,\n",
       "          0.        ,  0.03527507,  0.        ,  0.        ,  0.        ,\n",
       "          0.01551229,  0.        ,  0.07451286,  0.01727308,  0.12763842,\n",
       "          0.        ,  0.00221017,  0.07912718,  0.0141336 ,  0.        ,\n",
       "          0.        ,  0.08743412,  0.        ,  0.06773109,  0.12767469]])"
      ]
     },
     "execution_count": 4,
     "metadata": {},
     "output_type": "execute_result"
    }
   ],
   "source": [
    "generate_process(0.3,3,30,0.35)\n"
   ]
  },
  {
   "cell_type": "code",
   "execution_count": 5,
   "metadata": {
    "ExecuteTime": {
     "end_time": "2017-11-15T14:47:30.795825Z",
     "start_time": "2017-11-15T15:47:30.194505+01:00"
    }
   },
   "outputs": [],
   "source": [
    "%%capture\n",
    "D=run_one_object_method_C(X,3,4,2,\"nmf\")"
   ]
  },
  {
   "cell_type": "code",
   "execution_count": 9,
   "metadata": {
    "ExecuteTime": {
     "end_time": "2017-11-15T14:48:01.178138Z",
     "start_time": "2017-11-15T15:48:01.164587+01:00"
    }
   },
   "outputs": [
    {
     "data": {
      "text/plain": [
       "matrix([[ 0.14708176,  0.17816535,  0.20245281,  0.        ,  0.        ,\n",
       "          0.02400014,  0.08807716,  0.19909798,  0.1611248 ,  0.        ]])"
      ]
     },
     "execution_count": 9,
     "metadata": {},
     "output_type": "execute_result"
    }
   ],
   "source": [
    "FP=D['summary']['processes']"
   ]
  },
  {
   "cell_type": "code",
   "execution_count": 10,
   "metadata": {
    "ExecuteTime": {
     "end_time": "2017-11-15T14:50:35.650785Z",
     "start_time": "2017-11-15T15:50:34.935768+01:00"
    }
   },
   "outputs": [
    {
     "data": {
      "image/png": "[encoded data removed]",
      "text/plain": [
       "<matplotlib.figure.Figure at 0x7fa78a0bdd68>"
      ]
     },
     "metadata": {},
     "output_type": "display_data"
    }
   ],
   "source": [
    "plot_sign(FP,P,0,euclidean)"
   ]
  },
  {
   "cell_type": "code",
   "execution_count": 6,
   "metadata": {
    "ExecuteTime": {
     "end_time": "2017-05-27T15:32:11.470854Z",
     "start_time": "2017-05-27T17:32:11.077336+02:00"
    }
   },
   "outputs": [
    {
     "data": {
      "image/png": "[encoded data removed]",
      "text/plain": [
       "<matplotlib.figure.Figure at 0x7f91eca55160>"
      ]
     },
     "metadata": {},
     "output_type": "display_data"
    }
   ],
   "source": [
    "plot_sign(FP.T,P,1)"
   ]
  },
  {
   "cell_type": "code",
   "execution_count": 7,
   "metadata": {
    "ExecuteTime": {
     "end_time": "2017-05-27T15:32:16.432874Z",
     "start_time": "2017-05-27T17:32:15.990132+02:00"
    }
   },
   "outputs": [
    {
     "data": {
      "image/png": "[encoded data removed]",
      "text/plain": [
       "<matplotlib.figure.Figure at 0x7f91ec8cba20>"
      ]
     },
     "metadata": {},
     "output_type": "display_data"
    }
   ],
   "source": [
    "plot_sign(FP.T,P,2)"
   ]
  }
 ],
 "metadata": {
  "anaconda-cloud": {},
  "kernelspec": {
   "display_name": "Python 3",
   "language": "python",
   "name": "python3"
  },
  "language_info": {
   "codemirror_mode": {
    "name": "ipython",
    "version": 3
   },
   "file_extension": ".py",
   "mimetype": "text/x-python",
   "name": "python",
   "nbconvert_exporter": "python",
   "pygments_lexer": "ipython3",
   "version": "3.6.1"
  },
  "latex_envs": {
   "LaTeX_envs_menu_present": true,
   "autocomplete": true,
   "bibliofile": "biblio.bib",
   "cite_by": "apalike",
   "current_citInitial": 1,
   "eqLabelWithNumbers": true,
   "eqNumInitial": 1,
   "hotkeys": {
    "equation": "Ctrl-E",
    "itemize": "Ctrl-I"
   },
   "labels_anchors": false,
   "latex_user_defs": false,
   "report_style_numbering": false,
   "user_envs_cfg": false
  },
  "toc": {
   "colors": {
    "hover_highlight": "#DAA520",
    "running_highlight": "#FF0000",
    "selected_highlight": "#FFD700"
   },
   "moveMenuLeft": true,
   "nav_menu": {
    "height": "12px",
    "width": "252px"
   },
   "navigate_menu": true,
   "number_sections": true,
   "sideBar": true,
   "threshold": 4,
   "toc_cell": false,
   "toc_section_display": "block",
   "toc_window_display": false,
   "widenNotebook": false
  }
 },
 "nbformat": 4,
 "nbformat_minor": 2
}
